{
  "metadata": {
    "language_info": {
      "name": ""
    },
    "kernelspec": {
      "name": "python",
      "display_name": "Python (Pyodide)",
      "language": "python"
    }
  },
  "nbformat_minor": 4,
  "nbformat": 4,
  "cells": [
    {
      "cell_type": "code",
      "source": "import pickle\n\nclass Persona:\n    def __init__(self, nombre, edad):\n        self.nombre = nombre\n        self.edad = edad\n\n# Crear una lista de personas\npersonas = [\n    Persona(\"Juan\", 25),\n    Persona(\"María\", 30),\n    Persona(\"Carlos\", 28)\n]\n\n# Guardar la lista en un archivo usando pickle\nwith open('personas.pkl', 'wb') as archivo:\n    pickle.dump(personas, archivo)\n\n# Cargar la lista desde el archivo usando pickle\nwith open('personas.pkl', 'rb') as archivo:\n    personas_recuperadas = pickle.load(archivo)\n\n# Imprimir la información de las personas recuperadas\nprint(\"Personas recuperadas:\")\nfor persona in personas_recuperadas:\n    print(f\"Nombre: {persona.nombre}, Edad: {persona.edad}\")\n",
      "metadata": {},
      "execution_count": null,
      "outputs": []
    }
  ]
}